{
 "cells": [
  {
   "cell_type": "code",
   "execution_count": 343,
   "metadata": {},
   "outputs": [],
   "source": [
    "import sys\n",
    "sys.path.append('../skysurvey')\n",
    "import skysurvey"
   ]
  },
  {
   "cell_type": "markdown",
   "metadata": {},
   "source": []
  },
  {
   "cell_type": "code",
   "execution_count": 344,
   "metadata": {},
   "outputs": [
    {
     "data": {
      "text/plain": [
       "skysurvey.target.BBHFlare.BBH"
      ]
     },
     "execution_count": 344,
     "metadata": {},
     "output_type": "execute_result"
    }
   ],
   "source": [
    "bbh = skysurvey.BBHFlare.BBH()\n",
    "type(bbh)"
   ]
  },
  {
   "cell_type": "code",
   "execution_count": 369,
   "metadata": {},
   "outputs": [],
   "source": [
    "bbh.data\n",
    "#bbh.data is empty"
   ]
  },
  {
   "cell_type": "code",
   "execution_count": 346,
   "metadata": {},
   "outputs": [],
   "source": [
    "##bbh.draw(size = 10)"
   ]
  },
  {
   "cell_type": "code",
   "execution_count": 347,
   "metadata": {},
   "outputs": [
    {
     "data": {
      "text/plain": [
       "skysurvey.template.Template"
      ]
     },
     "execution_count": 347,
     "metadata": {},
     "output_type": "execute_result"
    }
   ],
   "source": [
    "type(bbh.template)"
   ]
  },
  {
   "cell_type": "code",
   "execution_count": 348,
   "metadata": {},
   "outputs": [],
   "source": [
    "### band = ['ztfr','ztfg']\n",
    "# times = [ 1,2,3]\n",
    "\n",
    "# fig = bbh.get_lightcurve(band, times)\n",
    "# fig\n",
    "# bbh.show_lightcurve([\"ztfg\",\"ztfr\"], index = 50)"
   ]
  },
  {
   "cell_type": "code",
   "execution_count": 349,
   "metadata": {},
   "outputs": [],
   "source": [
    "#CREATING A SURVEY\n",
    "from shapely import geometry\n",
    "footprint = geometry.Point(0,0).buffer(2) ##circle of radius 2 centered at 0,0\n",
    "\n",
    "## fields, different locations of the sky\n",
    "import numpy as np\n",
    "radec = {'C1': {'dec': -27.11161, 'ra': 54.274292+180},  \n",
    "         'C2': {'dec': -29.08839, 'ra': 54.274292+180},\n",
    "         'C3': {'dec': -28.10000, 'ra': 52.648417+180}\n",
    "         }\n",
    "\n",
    "# observing logs\n",
    "size = 10_000 ##number of observations to simulate\n",
    "\n",
    "data = {}\n",
    "data[\"gain\"] = 1\n",
    "data[\"zp\"] = 30\n",
    "data[\"skynoise\"] = np.random.normal(size=size, loc=200, scale=20)\n",
    "data[\"mjd\"] = np.random.uniform(56_000, 56_200, size=size)\n",
    "data[\"band\"] = \"desr\" #np.random.choice([\"desg\",\"desr\",\"desi\"], size=size)\n",
    "\n",
    "data[\"fieldid\"] = np.random.choice(list(radec.keys()), size=size)\n",
    "\n",
    "\n",
    "## Creating a GridSurvey\n",
    "survey = skysurvey.GridSurvey.from_pointings(data, radec,\n",
    "                                             footprint=footprint)"
   ]
  },
  {
   "cell_type": "code",
   "execution_count": 371,
   "metadata": {},
   "outputs": [],
   "source": [
    "#dataset = skysurvey.DataSet.from_targets_and_survey(bbh, survey)\n",
    "#dataset.data\n",
    "#doesnt work bc .data is empty for some reason"
   ]
  },
  {
   "cell_type": "code",
   "execution_count": 352,
   "metadata": {},
   "outputs": [],
   "source": [
    "import sncosmo\n",
    "import numpy as np"
   ]
  },
  {
   "cell_type": "code",
   "execution_count": 374,
   "metadata": {},
   "outputs": [],
   "source": [
    "wave = np.linspace(3600,8000,6)\n",
    "\n",
    "tr = np.random.uniform(10,100)\n",
    "td = np.random.uniform(tr,200)\n",
    "t0 = np.random.uniform(58300,60500)\n",
    "A = np.random.uniform(50,1000)\n",
    "\n",
    "\n",
    "times = np.linspace(t0 - tr,t0 + td,1000)\n",
    "times = np.unique(np.concatenate(([t0],times))) #making sure t0 is in there\n",
    "\n",
    "\n",
    "fluxes = np.empty(len(times))\n",
    "for i, time in enumerate(times):\n",
    "    if i == 0:\n",
    "        fluxes[0] = 0\n",
    "    elif i != 0:\n",
    "        if time == t0:\n",
    "            flux = A         \n",
    "        elif time < t0: #rising\n",
    "            flux = fluxes[i-1] + (A/tr * (times[i] - times[i-1]))\n",
    "        elif time > t0: #decaying\n",
    "            flux = fluxes[i-1] + (-A/td * (times[i] - times[i-1])) \n",
    "\n",
    "        fluxes[i] = flux\n",
    "    \n",
    "#This block of code is to fix the formatting of the 'fluxes' variable so that it can work in sncosmo.TimeSeriesSource()\n",
    "list2 = []\n",
    "for flux in fluxes:\n",
    "    list1 = []\n",
    "    for i in range(len(wave)): #len(wave) = number of wavelengths\n",
    "        list1.append(flux)\n",
    "    list2.append(list1)\n",
    "fluxes = list2\n",
    "fluxes = np.array(fluxes)"
   ]
  },
  {
   "cell_type": "code",
   "execution_count": 375,
   "metadata": {},
   "outputs": [
    {
     "name": "stderr",
     "output_type": "stream",
     "text": [
      "/Users/rebekahblackmon/Downloads/2024SURF/../skysurvey/skysurvey/target/core.py:184: UserWarning: Deprecation warning: source option is now called template\n",
      "  warnings.warn(\"Deprecation warning: source option is now called template\")\n"
     ]
    }
   ],
   "source": [
    "\n",
    "bbh3 = skysurvey.BBHFlare.BBH.from_draw(size=4000, source = sncosmo.TimeSeriesSource(times, wave, np.array(fluxes)))"
   ]
  },
  {
   "cell_type": "code",
   "execution_count": 355,
   "metadata": {},
   "outputs": [
    {
     "data": {
      "text/plain": [
       "['z', 't0', 'amplitude']"
      ]
     },
     "execution_count": 355,
     "metadata": {},
     "output_type": "execute_result"
    }
   ],
   "source": [
    "bbh.template_parameters #Not sure where these are defined. The output is the same for SN class."
   ]
  },
  {
   "cell_type": "code",
   "execution_count": 356,
   "metadata": {},
   "outputs": [
    {
     "data": {
      "text/html": [
       "<div>\n",
       "<style scoped>\n",
       "    .dataframe tbody tr th:only-of-type {\n",
       "        vertical-align: middle;\n",
       "    }\n",
       "\n",
       "    .dataframe tbody tr th {\n",
       "        vertical-align: top;\n",
       "    }\n",
       "\n",
       "    .dataframe thead th {\n",
       "        text-align: right;\n",
       "    }\n",
       "</style>\n",
       "<table border=\"1\" class=\"dataframe\">\n",
       "  <thead>\n",
       "    <tr style=\"text-align: right;\">\n",
       "      <th></th>\n",
       "      <th>z</th>\n",
       "      <th>t0</th>\n",
       "      <th>ra</th>\n",
       "      <th>dec</th>\n",
       "      <th>template</th>\n",
       "    </tr>\n",
       "  </thead>\n",
       "  <tbody>\n",
       "    <tr>\n",
       "      <th>0</th>\n",
       "      <td>0.11045</td>\n",
       "      <td>59568.839844</td>\n",
       "      <td>256.521057</td>\n",
       "      <td>55.643692</td>\n",
       "      <td>None</td>\n",
       "    </tr>\n",
       "    <tr>\n",
       "      <th>1</th>\n",
       "      <td>0.19435</td>\n",
       "      <td>59147.378906</td>\n",
       "      <td>160.321899</td>\n",
       "      <td>61.565147</td>\n",
       "      <td>None</td>\n",
       "    </tr>\n",
       "    <tr>\n",
       "      <th>2</th>\n",
       "      <td>0.09605</td>\n",
       "      <td>59663.632812</td>\n",
       "      <td>123.536850</td>\n",
       "      <td>-33.658722</td>\n",
       "      <td>None</td>\n",
       "    </tr>\n",
       "    <tr>\n",
       "      <th>3</th>\n",
       "      <td>0.18795</td>\n",
       "      <td>58584.781250</td>\n",
       "      <td>32.598846</td>\n",
       "      <td>-12.685643</td>\n",
       "      <td>None</td>\n",
       "    </tr>\n",
       "    <tr>\n",
       "      <th>4</th>\n",
       "      <td>0.11845</td>\n",
       "      <td>59417.992188</td>\n",
       "      <td>61.758526</td>\n",
       "      <td>-32.859760</td>\n",
       "      <td>None</td>\n",
       "    </tr>\n",
       "    <tr>\n",
       "      <th>...</th>\n",
       "      <td>...</td>\n",
       "      <td>...</td>\n",
       "      <td>...</td>\n",
       "      <td>...</td>\n",
       "      <td>...</td>\n",
       "    </tr>\n",
       "    <tr>\n",
       "      <th>3995</th>\n",
       "      <td>0.16435</td>\n",
       "      <td>59287.210938</td>\n",
       "      <td>311.827759</td>\n",
       "      <td>-27.267477</td>\n",
       "      <td>None</td>\n",
       "    </tr>\n",
       "    <tr>\n",
       "      <th>3996</th>\n",
       "      <td>0.19465</td>\n",
       "      <td>60448.652344</td>\n",
       "      <td>303.433502</td>\n",
       "      <td>41.944332</td>\n",
       "      <td>None</td>\n",
       "    </tr>\n",
       "    <tr>\n",
       "      <th>3997</th>\n",
       "      <td>0.16425</td>\n",
       "      <td>60089.917969</td>\n",
       "      <td>160.962112</td>\n",
       "      <td>-20.049744</td>\n",
       "      <td>None</td>\n",
       "    </tr>\n",
       "    <tr>\n",
       "      <th>3998</th>\n",
       "      <td>0.16875</td>\n",
       "      <td>59891.109375</td>\n",
       "      <td>194.466690</td>\n",
       "      <td>25.864855</td>\n",
       "      <td>None</td>\n",
       "    </tr>\n",
       "    <tr>\n",
       "      <th>3999</th>\n",
       "      <td>0.16475</td>\n",
       "      <td>60392.675781</td>\n",
       "      <td>333.576477</td>\n",
       "      <td>4.950397</td>\n",
       "      <td>None</td>\n",
       "    </tr>\n",
       "  </tbody>\n",
       "</table>\n",
       "<p>4000 rows × 5 columns</p>\n",
       "</div>"
      ],
      "text/plain": [
       "            z            t0          ra        dec template\n",
       "0     0.11045  59568.839844  256.521057  55.643692     None\n",
       "1     0.19435  59147.378906  160.321899  61.565147     None\n",
       "2     0.09605  59663.632812  123.536850 -33.658722     None\n",
       "3     0.18795  58584.781250   32.598846 -12.685643     None\n",
       "4     0.11845  59417.992188   61.758526 -32.859760     None\n",
       "...       ...           ...         ...        ...      ...\n",
       "3995  0.16435  59287.210938  311.827759 -27.267477     None\n",
       "3996  0.19465  60448.652344  303.433502  41.944332     None\n",
       "3997  0.16425  60089.917969  160.962112 -20.049744     None\n",
       "3998  0.16875  59891.109375  194.466690  25.864855     None\n",
       "3999  0.16475  60392.675781  333.576477   4.950397     None\n",
       "\n",
       "[4000 rows x 5 columns]"
      ]
     },
     "execution_count": 356,
     "metadata": {},
     "output_type": "execute_result"
    }
   ],
   "source": [
    "bbh3.data\n",
    "#.data is finally not empty. I think the issue was that I wasn't using from_draw function. from_draw function creates and instance + loads data attribute\n",
    "#POTENTIAL PROBLEM:\n",
    "#   flux and times aren't included because they aren't in the MODEL dictionary. I know how to include times, but am having trouble adding flux."
   ]
  },
  {
   "cell_type": "code",
   "execution_count": 376,
   "metadata": {},
   "outputs": [
    {
     "name": "stdout",
     "output_type": "stream",
     "text": [
      "before any acc code, sncosmo_model =None\n",
      "after some code, sncosmo_model = <Model at 0x166d34110>\n",
      "source:\n",
      "  class      : TimeSeriesSource\n",
      "  name       : None\n",
      "  version    : None\n",
      "  phases     : [59791.3, .., 60004] days\n",
      "  wavelengths: [3600, .., 8000] Angstroms\n",
      "parameters:\n",
      "  z         = 0.0\n",
      "  t0        = 0.0\n",
      "  amplitude = 1.0, and its type is<class 'sncosmo.models.Model'>\n"
     ]
    },
    {
     "data": {
      "text/plain": [
       "array([[685.76547888, 685.76547888, 685.76547888],\n",
       "       [-21.82886236, -21.82886236, -21.82886236]])"
      ]
     },
     "execution_count": 376,
     "metadata": {},
     "output_type": "execute_result"
    }
   ],
   "source": [
    "band = ['ztfr','ztfg']\n",
    "times = [ 1,2,3]\n",
    "bbh3.get_lightcurve(band, times)"
   ]
  },
  {
   "cell_type": "code",
   "execution_count": 377,
   "metadata": {},
   "outputs": [],
   "source": [
    "\n",
    "#bbh3.show_lightcurve([\"ztfg\",\"ztfr\"], index = 50)"
   ]
  },
  {
   "cell_type": "code",
   "execution_count": 378,
   "metadata": {},
   "outputs": [
    {
     "name": "stderr",
     "output_type": "stream",
     "text": [
      "/Users/rebekahblackmon/Downloads/2024SURF/../skysurvey/skysurvey/dataset.py:811: FutureWarning: When grouping with a length-1 list-like, you will need to pass a length-1 tuple to get_group in a future version of pandas. Pass `(name,)` instead of `name` to silence this warning.\n",
      "  this_survey = gsurvey_indexed.get_group(index_).copy()\n",
      "/Users/rebekahblackmon/Downloads/2024SURF/../skysurvey/skysurvey/dataset.py:811: FutureWarning: When grouping with a length-1 list-like, you will need to pass a length-1 tuple to get_group in a future version of pandas. Pass `(name,)` instead of `name` to silence this warning.\n",
      "  this_survey = gsurvey_indexed.get_group(index_).copy()\n"
     ]
    },
    {
     "data": {
      "text/html": [
       "<div>\n",
       "<style scoped>\n",
       "    .dataframe tbody tr th:only-of-type {\n",
       "        vertical-align: middle;\n",
       "    }\n",
       "\n",
       "    .dataframe tbody tr th {\n",
       "        vertical-align: top;\n",
       "    }\n",
       "\n",
       "    .dataframe thead th {\n",
       "        text-align: right;\n",
       "    }\n",
       "</style>\n",
       "<table border=\"1\" class=\"dataframe\">\n",
       "  <thead>\n",
       "    <tr style=\"text-align: right;\">\n",
       "      <th></th>\n",
       "      <th></th>\n",
       "      <th>fieldid</th>\n",
       "      <th>time</th>\n",
       "      <th>band</th>\n",
       "      <th>flux</th>\n",
       "      <th>fluxerr</th>\n",
       "      <th>zp</th>\n",
       "      <th>zpsys</th>\n",
       "    </tr>\n",
       "    <tr>\n",
       "      <th>index</th>\n",
       "      <th></th>\n",
       "      <th></th>\n",
       "      <th></th>\n",
       "      <th></th>\n",
       "      <th></th>\n",
       "      <th></th>\n",
       "      <th></th>\n",
       "      <th></th>\n",
       "    </tr>\n",
       "  </thead>\n",
       "  <tbody>\n",
       "    <tr>\n",
       "      <th rowspan=\"11\" valign=\"top\">1692</th>\n",
       "      <th>6070</th>\n",
       "      <td>C2</td>\n",
       "      <td>56000.066406</td>\n",
       "      <td>desr</td>\n",
       "      <td>-9810.982156</td>\n",
       "      <td>201.709437</td>\n",
       "      <td>30</td>\n",
       "      <td>ab</td>\n",
       "    </tr>\n",
       "    <tr>\n",
       "      <th>8518</th>\n",
       "      <td>C2</td>\n",
       "      <td>56000.183594</td>\n",
       "      <td>desr</td>\n",
       "      <td>-10300.318263</td>\n",
       "      <td>194.573978</td>\n",
       "      <td>30</td>\n",
       "      <td>ab</td>\n",
       "    </tr>\n",
       "    <tr>\n",
       "      <th>9612</th>\n",
       "      <td>C2</td>\n",
       "      <td>56000.253906</td>\n",
       "      <td>desr</td>\n",
       "      <td>-10276.472170</td>\n",
       "      <td>213.580332</td>\n",
       "      <td>30</td>\n",
       "      <td>ab</td>\n",
       "    </tr>\n",
       "    <tr>\n",
       "      <th>6608</th>\n",
       "      <td>C2</td>\n",
       "      <td>56000.273438</td>\n",
       "      <td>desr</td>\n",
       "      <td>-10251.211577</td>\n",
       "      <td>253.848695</td>\n",
       "      <td>30</td>\n",
       "      <td>ab</td>\n",
       "    </tr>\n",
       "    <tr>\n",
       "      <th>5908</th>\n",
       "      <td>C2</td>\n",
       "      <td>56000.312500</td>\n",
       "      <td>desr</td>\n",
       "      <td>-10344.972523</td>\n",
       "      <td>224.865098</td>\n",
       "      <td>30</td>\n",
       "      <td>ab</td>\n",
       "    </tr>\n",
       "    <tr>\n",
       "      <th>...</th>\n",
       "      <td>...</td>\n",
       "      <td>...</td>\n",
       "      <td>...</td>\n",
       "      <td>...</td>\n",
       "      <td>...</td>\n",
       "      <td>...</td>\n",
       "      <td>...</td>\n",
       "    </tr>\n",
       "    <tr>\n",
       "      <th>2212</th>\n",
       "      <td>C3</td>\n",
       "      <td>56199.632812</td>\n",
       "      <td>desr</td>\n",
       "      <td>-10020.715224</td>\n",
       "      <td>229.283079</td>\n",
       "      <td>30</td>\n",
       "      <td>ab</td>\n",
       "    </tr>\n",
       "    <tr>\n",
       "      <th>1838</th>\n",
       "      <td>C3</td>\n",
       "      <td>56199.683594</td>\n",
       "      <td>desr</td>\n",
       "      <td>-9890.939144</td>\n",
       "      <td>234.121621</td>\n",
       "      <td>30</td>\n",
       "      <td>ab</td>\n",
       "    </tr>\n",
       "    <tr>\n",
       "      <th>6400</th>\n",
       "      <td>C3</td>\n",
       "      <td>56199.753906</td>\n",
       "      <td>desr</td>\n",
       "      <td>-10315.101834</td>\n",
       "      <td>242.879165</td>\n",
       "      <td>30</td>\n",
       "      <td>ab</td>\n",
       "    </tr>\n",
       "    <tr>\n",
       "      <th>8437</th>\n",
       "      <td>C3</td>\n",
       "      <td>56199.781250</td>\n",
       "      <td>desr</td>\n",
       "      <td>-10311.544855</td>\n",
       "      <td>240.864361</td>\n",
       "      <td>30</td>\n",
       "      <td>ab</td>\n",
       "    </tr>\n",
       "    <tr>\n",
       "      <th>8570</th>\n",
       "      <td>C3</td>\n",
       "      <td>56199.781250</td>\n",
       "      <td>desr</td>\n",
       "      <td>-9854.049585</td>\n",
       "      <td>235.634863</td>\n",
       "      <td>30</td>\n",
       "      <td>ab</td>\n",
       "    </tr>\n",
       "  </tbody>\n",
       "</table>\n",
       "<p>6593 rows × 7 columns</p>\n",
       "</div>"
      ],
      "text/plain": [
       "           fieldid          time  band          flux     fluxerr  zp zpsys\n",
       "index                                                                     \n",
       "1692  6070      C2  56000.066406  desr  -9810.982156  201.709437  30    ab\n",
       "      8518      C2  56000.183594  desr -10300.318263  194.573978  30    ab\n",
       "      9612      C2  56000.253906  desr -10276.472170  213.580332  30    ab\n",
       "      6608      C2  56000.273438  desr -10251.211577  253.848695  30    ab\n",
       "      5908      C2  56000.312500  desr -10344.972523  224.865098  30    ab\n",
       "...            ...           ...   ...           ...         ...  ..   ...\n",
       "      2212      C3  56199.632812  desr -10020.715224  229.283079  30    ab\n",
       "      1838      C3  56199.683594  desr  -9890.939144  234.121621  30    ab\n",
       "      6400      C3  56199.753906  desr -10315.101834  242.879165  30    ab\n",
       "      8437      C3  56199.781250  desr -10311.544855  240.864361  30    ab\n",
       "      8570      C3  56199.781250  desr  -9854.049585  235.634863  30    ab\n",
       "\n",
       "[6593 rows x 7 columns]"
      ]
     },
     "execution_count": 378,
     "metadata": {},
     "output_type": "execute_result"
    }
   ],
   "source": [
    "dataset = skysurvey.DataSet.from_targets_and_survey(bbh3, survey)\n",
    "dataset.data"
   ]
  },
  {
   "cell_type": "code",
   "execution_count": 379,
   "metadata": {},
   "outputs": [],
   "source": [
    "data = dataset.data"
   ]
  },
  {
   "cell_type": "code",
   "execution_count": 380,
   "metadata": {},
   "outputs": [
    {
     "data": {
      "text/html": [
       "<div>\n",
       "<style scoped>\n",
       "    .dataframe tbody tr th:only-of-type {\n",
       "        vertical-align: middle;\n",
       "    }\n",
       "\n",
       "    .dataframe tbody tr th {\n",
       "        vertical-align: top;\n",
       "    }\n",
       "\n",
       "    .dataframe thead th {\n",
       "        text-align: right;\n",
       "    }\n",
       "</style>\n",
       "<table border=\"1\" class=\"dataframe\">\n",
       "  <thead>\n",
       "    <tr style=\"text-align: right;\">\n",
       "      <th></th>\n",
       "      <th></th>\n",
       "      <th>fieldid</th>\n",
       "      <th>time</th>\n",
       "      <th>band</th>\n",
       "      <th>flux</th>\n",
       "      <th>fluxerr</th>\n",
       "      <th>zp</th>\n",
       "      <th>zpsys</th>\n",
       "    </tr>\n",
       "    <tr>\n",
       "      <th>index</th>\n",
       "      <th></th>\n",
       "      <th></th>\n",
       "      <th></th>\n",
       "      <th></th>\n",
       "      <th></th>\n",
       "      <th></th>\n",
       "      <th></th>\n",
       "      <th></th>\n",
       "    </tr>\n",
       "  </thead>\n",
       "  <tbody>\n",
       "    <tr>\n",
       "      <th rowspan=\"11\" valign=\"top\">1692</th>\n",
       "      <th>6070</th>\n",
       "      <td>C2</td>\n",
       "      <td>56000.066406</td>\n",
       "      <td>desr</td>\n",
       "      <td>-9810.982156</td>\n",
       "      <td>201.709437</td>\n",
       "      <td>30</td>\n",
       "      <td>ab</td>\n",
       "    </tr>\n",
       "    <tr>\n",
       "      <th>8518</th>\n",
       "      <td>C2</td>\n",
       "      <td>56000.183594</td>\n",
       "      <td>desr</td>\n",
       "      <td>-10300.318263</td>\n",
       "      <td>194.573978</td>\n",
       "      <td>30</td>\n",
       "      <td>ab</td>\n",
       "    </tr>\n",
       "    <tr>\n",
       "      <th>9612</th>\n",
       "      <td>C2</td>\n",
       "      <td>56000.253906</td>\n",
       "      <td>desr</td>\n",
       "      <td>-10276.472170</td>\n",
       "      <td>213.580332</td>\n",
       "      <td>30</td>\n",
       "      <td>ab</td>\n",
       "    </tr>\n",
       "    <tr>\n",
       "      <th>6608</th>\n",
       "      <td>C2</td>\n",
       "      <td>56000.273438</td>\n",
       "      <td>desr</td>\n",
       "      <td>-10251.211577</td>\n",
       "      <td>253.848695</td>\n",
       "      <td>30</td>\n",
       "      <td>ab</td>\n",
       "    </tr>\n",
       "    <tr>\n",
       "      <th>5908</th>\n",
       "      <td>C2</td>\n",
       "      <td>56000.312500</td>\n",
       "      <td>desr</td>\n",
       "      <td>-10344.972523</td>\n",
       "      <td>224.865098</td>\n",
       "      <td>30</td>\n",
       "      <td>ab</td>\n",
       "    </tr>\n",
       "    <tr>\n",
       "      <th>...</th>\n",
       "      <td>...</td>\n",
       "      <td>...</td>\n",
       "      <td>...</td>\n",
       "      <td>...</td>\n",
       "      <td>...</td>\n",
       "      <td>...</td>\n",
       "      <td>...</td>\n",
       "    </tr>\n",
       "    <tr>\n",
       "      <th>2212</th>\n",
       "      <td>C3</td>\n",
       "      <td>56199.632812</td>\n",
       "      <td>desr</td>\n",
       "      <td>-10020.715224</td>\n",
       "      <td>229.283079</td>\n",
       "      <td>30</td>\n",
       "      <td>ab</td>\n",
       "    </tr>\n",
       "    <tr>\n",
       "      <th>1838</th>\n",
       "      <td>C3</td>\n",
       "      <td>56199.683594</td>\n",
       "      <td>desr</td>\n",
       "      <td>-9890.939144</td>\n",
       "      <td>234.121621</td>\n",
       "      <td>30</td>\n",
       "      <td>ab</td>\n",
       "    </tr>\n",
       "    <tr>\n",
       "      <th>6400</th>\n",
       "      <td>C3</td>\n",
       "      <td>56199.753906</td>\n",
       "      <td>desr</td>\n",
       "      <td>-10315.101834</td>\n",
       "      <td>242.879165</td>\n",
       "      <td>30</td>\n",
       "      <td>ab</td>\n",
       "    </tr>\n",
       "    <tr>\n",
       "      <th>8437</th>\n",
       "      <td>C3</td>\n",
       "      <td>56199.781250</td>\n",
       "      <td>desr</td>\n",
       "      <td>-10311.544855</td>\n",
       "      <td>240.864361</td>\n",
       "      <td>30</td>\n",
       "      <td>ab</td>\n",
       "    </tr>\n",
       "    <tr>\n",
       "      <th>8570</th>\n",
       "      <td>C3</td>\n",
       "      <td>56199.781250</td>\n",
       "      <td>desr</td>\n",
       "      <td>-9854.049585</td>\n",
       "      <td>235.634863</td>\n",
       "      <td>30</td>\n",
       "      <td>ab</td>\n",
       "    </tr>\n",
       "  </tbody>\n",
       "</table>\n",
       "<p>6593 rows × 7 columns</p>\n",
       "</div>"
      ],
      "text/plain": [
       "           fieldid          time  band          flux     fluxerr  zp zpsys\n",
       "index                                                                     \n",
       "1692  6070      C2  56000.066406  desr  -9810.982156  201.709437  30    ab\n",
       "      8518      C2  56000.183594  desr -10300.318263  194.573978  30    ab\n",
       "      9612      C2  56000.253906  desr -10276.472170  213.580332  30    ab\n",
       "      6608      C2  56000.273438  desr -10251.211577  253.848695  30    ab\n",
       "      5908      C2  56000.312500  desr -10344.972523  224.865098  30    ab\n",
       "...            ...           ...   ...           ...         ...  ..   ...\n",
       "      2212      C3  56199.632812  desr -10020.715224  229.283079  30    ab\n",
       "      1838      C3  56199.683594  desr  -9890.939144  234.121621  30    ab\n",
       "      6400      C3  56199.753906  desr -10315.101834  242.879165  30    ab\n",
       "      8437      C3  56199.781250  desr -10311.544855  240.864361  30    ab\n",
       "      8570      C3  56199.781250  desr  -9854.049585  235.634863  30    ab\n",
       "\n",
       "[6593 rows x 7 columns]"
      ]
     },
     "execution_count": 380,
     "metadata": {},
     "output_type": "execute_result"
    }
   ],
   "source": [
    "data"
   ]
  },
  {
   "cell_type": "code",
   "execution_count": 381,
   "metadata": {},
   "outputs": [],
   "source": [
    "g_times = []\n",
    "g_flux = []\n",
    "r_times = []\n",
    "r_flux = []\n",
    "i_times = []\n",
    "i_flux = []\n",
    "\n",
    "#ab.band_flux_to_mag\n",
    "#ab.band_flux_to_mag()\n",
    "for i in range(len(data)):\n",
    "    datapoint = data.iloc[i]\n",
    "\n",
    "    if datapoint['band'] == 'desr':\n",
    "        r_times.append(datapoint['time'])\n",
    "        r_flux.append(datapoint['flux'])\n",
    "\n",
    "    elif datapoint['band'] == 'desg':\n",
    "        g_times.append(datapoint['time'])\n",
    "        g_flux.append(datapoint['flux'])\n",
    "\n",
    "    elif datapoint['band'] == 'desi':\n",
    "        i_times.append(datapoint['time'])\n",
    "        i_flux.append(datapoint['flux'])\n"
   ]
  },
  {
   "cell_type": "code",
   "execution_count": 382,
   "metadata": {},
   "outputs": [],
   "source": [
    "import matplotlib.pyplot as plt"
   ]
  },
  {
   "cell_type": "code",
   "execution_count": 383,
   "metadata": {},
   "outputs": [
    {
     "data": {
      "text/plain": [
       "<matplotlib.legend.Legend at 0x166d34ed0>"
      ]
     },
     "execution_count": 383,
     "metadata": {},
     "output_type": "execute_result"
    },
    {
     "data": {
      "image/png": "[encoded data removed]",
      "text/plain": [
       "<Figure size 640x480 with 1 Axes>"
      ]
     },
     "metadata": {},
     "output_type": "display_data"
    }
   ],
   "source": [
    "\n",
    "\n",
    "plt.figure()\n",
    "plt.plot(g_times,g_flux, color = 'g', label = 'g filter')\n",
    "plt.scatter(r_times, r_flux, color = 'r', label = 'r filter',s = 0.5)\n",
    "plt.plot(i_times, i_flux, color = 'y', label = 'i filter')\n",
    "plt.title(\"Simulated Lightcurve of BBHFlare\")\n",
    "plt.xlabel('Time (mjd)')\n",
    "plt.ylabel('flux')\n",
    "plt.legend()"
   ]
  },
  {
   "cell_type": "code",
   "execution_count": 384,
   "metadata": {},
   "outputs": [
    {
     "data": {
      "image/png": "[encoded data removed]",
      "text/plain": [
       "<Figure size 700x500 with 1 Axes>"
      ]
     },
     "execution_count": 384,
     "metadata": {},
     "output_type": "execute_result"
    },
    {
     "data": {
      "image/png": "[encoded data removed]",
      "text/plain": [
       "<Figure size 700x500 with 1 Axes>"
      ]
     },
     "metadata": {},
     "output_type": "display_data"
    }
   ],
   "source": [
    "\n",
    "survey.show()"
   ]
  },
  {
   "cell_type": "code",
   "execution_count": 385,
   "metadata": {},
   "outputs": [],
   "source": [
    "#Trying a different survey, however skysurvey docs mentioned you need a password in order to user ZTF survey???\n",
    "survey2 = skysurvey.ZTF\n",
    "\n"
   ]
  },
  {
   "cell_type": "code",
   "execution_count": 386,
   "metadata": {},
   "outputs": [
    {
     "data": {
      "text/plain": [
       "type"
      ]
     },
     "execution_count": 386,
     "metadata": {},
     "output_type": "execute_result"
    }
   ],
   "source": [
    "type(survey2)"
   ]
  },
  {
   "cell_type": "code",
   "execution_count": 368,
   "metadata": {},
   "outputs": [
    {
     "ename": "TypeError",
     "evalue": "PolygonSurvey.radec_to_fieldid() missing 1 required positional argument: 'radec'",
     "output_type": "error",
     "traceback": [
      "\u001b[0;31m---------------------------------------------------------------------------\u001b[0m",
      "\u001b[0;31mTypeError\u001b[0m                                 Traceback (most recent call last)",
      "Cell \u001b[0;32mIn[368], line 1\u001b[0m\n\u001b[0;32m----> 1\u001b[0m dataset2 \u001b[38;5;241m=\u001b[39m \u001b[43mskysurvey\u001b[49m\u001b[38;5;241;43m.\u001b[39;49m\u001b[43mDataSet\u001b[49m\u001b[38;5;241;43m.\u001b[39;49m\u001b[43mfrom_targets_and_survey\u001b[49m\u001b[43m(\u001b[49m\u001b[43mbbh3\u001b[49m\u001b[43m,\u001b[49m\u001b[43m \u001b[49m\u001b[43msurvey2\u001b[49m\u001b[43m)\u001b[49m\n",
      "File \u001b[0;32m~/Downloads/2024SURF/../skysurvey/skysurvey/dataset.py:150\u001b[0m, in \u001b[0;36mDataSet.from_targets_and_survey\u001b[0;34m(cls, targets, survey, template, client, incl_error, **kwargs)\u001b[0m\n\u001b[1;32m    114\u001b[0m \u001b[38;5;129m@classmethod\u001b[39m\n\u001b[1;32m    115\u001b[0m \u001b[38;5;28;01mdef\u001b[39;00m \u001b[38;5;21mfrom_targets_and_survey\u001b[39m(\u001b[38;5;28mcls\u001b[39m, targets, survey, template\u001b[38;5;241m=\u001b[39m\u001b[38;5;28;01mNone\u001b[39;00m, client\u001b[38;5;241m=\u001b[39m\u001b[38;5;28;01mNone\u001b[39;00m,\n\u001b[1;32m    116\u001b[0m                                 incl_error\u001b[38;5;241m=\u001b[39m\u001b[38;5;28;01mTrue\u001b[39;00m, \u001b[38;5;241m*\u001b[39m\u001b[38;5;241m*\u001b[39mkwargs):\n\u001b[1;32m    117\u001b[0m \u001b[38;5;250m    \u001b[39m\u001b[38;5;124;03m\"\"\" loads a dataset (observed data) given targets and a survey\u001b[39;00m\n\u001b[1;32m    118\u001b[0m \n\u001b[1;32m    119\u001b[0m \u001b[38;5;124;03m    This first matches the targets (given targets.data[[\"ra\",\"dec\"]]) with the\u001b[39;00m\n\u001b[0;32m   (...)\u001b[0m\n\u001b[1;32m    148\u001b[0m \u001b[38;5;124;03m    read_parquet: loads a stored dataset\u001b[39;00m\n\u001b[1;32m    149\u001b[0m \u001b[38;5;124;03m    \"\"\"\u001b[39;00m\n\u001b[0;32m--> 150\u001b[0m     lightcurves, fieldids \u001b[38;5;241m=\u001b[39m \u001b[38;5;28;43mcls\u001b[39;49m\u001b[38;5;241;43m.\u001b[39;49m\u001b[43mrealize_survey_target_lcs\u001b[49m\u001b[43m(\u001b[49m\u001b[43mtargets\u001b[49m\u001b[43m,\u001b[49m\u001b[43m \u001b[49m\u001b[43msurvey\u001b[49m\u001b[43m,\u001b[49m\u001b[43m \u001b[49m\u001b[43mtemplate\u001b[49m\u001b[38;5;241;43m=\u001b[39;49m\u001b[43mtemplate\u001b[49m\u001b[43m,\u001b[49m\n\u001b[1;32m    151\u001b[0m \u001b[43m                                                              \u001b[49m\u001b[43mclient\u001b[49m\u001b[38;5;241;43m=\u001b[39;49m\u001b[43mclient\u001b[49m\u001b[43m,\u001b[49m\n\u001b[1;32m    152\u001b[0m \u001b[43m                                                              \u001b[49m\u001b[43mincl_error\u001b[49m\u001b[38;5;241;43m=\u001b[39;49m\u001b[43mincl_error\u001b[49m\u001b[43m,\u001b[49m\n\u001b[1;32m    153\u001b[0m \u001b[43m                                                              \u001b[49m\u001b[38;5;241;43m*\u001b[39;49m\u001b[38;5;241;43m*\u001b[39;49m\u001b[43mkwargs\u001b[49m\u001b[43m)\u001b[49m\n\u001b[1;32m    154\u001b[0m     data \u001b[38;5;241m=\u001b[39m pandas\u001b[38;5;241m.\u001b[39mconcat(lightcurves, keys\u001b[38;5;241m=\u001b[39mfieldids \u001b[38;5;66;03m# store fieldid\u001b[39;00m\n\u001b[1;32m    155\u001b[0m                              )\u001b[38;5;241m.\u001b[39mreset_index(survey\u001b[38;5;241m.\u001b[39mfieldids\u001b[38;5;241m.\u001b[39mnames)\n\u001b[1;32m    156\u001b[0m     \u001b[38;5;28;01mreturn\u001b[39;00m \u001b[38;5;28mcls\u001b[39m(data, targets\u001b[38;5;241m=\u001b[39mtargets, survey\u001b[38;5;241m=\u001b[39msurvey)\n",
      "File \u001b[0;32m~/Downloads/2024SURF/../skysurvey/skysurvey/dataset.py:714\u001b[0m, in \u001b[0;36mDataSet.realize_survey_target_lcs\u001b[0;34m(cls, targets, survey, template, template_prop, nfirst, incl_error, client)\u001b[0m\n\u001b[1;32m    711\u001b[0m         fieldids_indexes \u001b[38;5;241m=\u001b[39m pandas\u001b[38;5;241m.\u001b[39mIndex(data\u001b[38;5;241m=\u001b[39mfieldids_indexes, name\u001b[38;5;241m=\u001b[39msurvey\u001b[38;5;241m.\u001b[39mfieldids\u001b[38;5;241m.\u001b[39mnames[\u001b[38;5;241m0\u001b[39m])\n\u001b[1;32m    713\u001b[0m \u001b[38;5;28;01melse\u001b[39;00m: \u001b[38;5;66;03m# input is a single-kind target\u001b[39;00m\n\u001b[0;32m--> 714\u001b[0m     lc_out, fieldids_indexes \u001b[38;5;241m=\u001b[39m \u001b[38;5;28;43mcls\u001b[39;49m\u001b[38;5;241;43m.\u001b[39;49m\u001b[43m_realize_survey_kindtarget_lcs\u001b[49m\u001b[43m(\u001b[49m\u001b[43mtargets\u001b[49m\u001b[43m,\u001b[49m\u001b[43m \u001b[49m\u001b[43msurvey\u001b[49m\u001b[43m,\u001b[49m\n\u001b[1;32m    715\u001b[0m \u001b[43m                                                  \u001b[49m\u001b[43mtemplate\u001b[49m\u001b[38;5;241;43m=\u001b[39;49m\u001b[43mtemplate\u001b[49m\u001b[43m,\u001b[49m\n\u001b[1;32m    716\u001b[0m \u001b[43m                                                  \u001b[49m\u001b[43mtemplate_prop\u001b[49m\u001b[38;5;241;43m=\u001b[39;49m\u001b[43mtemplate_prop\u001b[49m\u001b[43m,\u001b[49m\n\u001b[1;32m    717\u001b[0m \u001b[43m                                                  \u001b[49m\u001b[43mnfirst\u001b[49m\u001b[38;5;241;43m=\u001b[39;49m\u001b[43mnfirst\u001b[49m\u001b[43m,\u001b[49m\n\u001b[1;32m    718\u001b[0m \u001b[43m                                                  \u001b[49m\u001b[43mclient\u001b[49m\u001b[38;5;241;43m=\u001b[39;49m\u001b[43mclient\u001b[49m\u001b[43m,\u001b[49m\n\u001b[1;32m    719\u001b[0m \u001b[43m                                                  \u001b[49m\u001b[43mincl_error\u001b[49m\u001b[38;5;241;43m=\u001b[39;49m\u001b[43mincl_error\u001b[49m\u001b[43m)\u001b[49m\n\u001b[1;32m    720\u001b[0m \u001b[38;5;28;01mreturn\u001b[39;00m lc_out, fieldids_indexes\n",
      "File \u001b[0;32m~/Downloads/2024SURF/../skysurvey/skysurvey/dataset.py:775\u001b[0m, in \u001b[0;36mDataSet._realize_survey_kindtarget_lcs\u001b[0;34m(targets, survey, template, template_prop, nfirst, incl_error, client)\u001b[0m\n\u001b[1;32m    771\u001b[0m     template \u001b[38;5;241m=\u001b[39m targets\u001b[38;5;241m.\u001b[39mtemplate\n\u001b[1;32m    773\u001b[0m template_columns \u001b[38;5;241m=\u001b[39m targets\u001b[38;5;241m.\u001b[39mget_template_columns()\n\u001b[0;32m--> 775\u001b[0m dfieldids_ \u001b[38;5;241m=\u001b[39m \u001b[43msurvey\u001b[49m\u001b[38;5;241;43m.\u001b[39;49m\u001b[43mradec_to_fieldid\u001b[49m\u001b[43m(\u001b[49m\u001b[43mtargets\u001b[49m\u001b[38;5;241;43m.\u001b[39;49m\u001b[43mdata\u001b[49m\u001b[43m[\u001b[49m\u001b[43m[\u001b[49m\u001b[38;5;124;43m\"\u001b[39;49m\u001b[38;5;124;43mra\u001b[39;49m\u001b[38;5;124;43m\"\u001b[39;49m\u001b[43m,\u001b[49m\u001b[38;5;124;43m\"\u001b[39;49m\u001b[38;5;124;43mdec\u001b[39;49m\u001b[38;5;124;43m\"\u001b[39;49m\u001b[43m]\u001b[49m\u001b[43m]\u001b[49m\u001b[43m)\u001b[49m\n\u001b[1;32m    777\u001b[0m \u001b[38;5;66;03m# merge conserves the dtypes of fieldids, not join.\u001b[39;00m\n\u001b[1;32m    778\u001b[0m _data_index \u001b[38;5;241m=\u001b[39m targets\u001b[38;5;241m.\u001b[39mdata\u001b[38;5;241m.\u001b[39mindex\u001b[38;5;241m.\u001b[39mname\n",
      "\u001b[0;31mTypeError\u001b[0m: PolygonSurvey.radec_to_fieldid() missing 1 required positional argument: 'radec'"
     ]
    }
   ],
   "source": [
    "dataset2 = skysurvey.DataSet.from_targets_and_survey(bbh3, survey2)"
   ]
  }
 ],
 "metadata": {
  "kernelspec": {
   "display_name": "Python 3",
   "language": "python",
   "name": "python3"
  },
  "language_info": {
   "codemirror_mode": {
    "name": "ipython",
    "version": 3
   },
   "file_extension": ".py",
   "mimetype": "text/x-python",
   "name": "python",
   "nbconvert_exporter": "python",
   "pygments_lexer": "ipython3",
   "version": "3.11.4"
  }
 },
 "nbformat": 4,
 "nbformat_minor": 2
}
